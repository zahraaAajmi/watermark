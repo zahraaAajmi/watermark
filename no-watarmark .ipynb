{
  "cells": [
    {
      "cell_type": "code",
      "execution_count": 11,
      "metadata": {
        "colab": {
          "base_uri": "https://localhost:8080/"
        },
        "id": "XwS3JKt-U1CE",
        "outputId": "225115bc-4b43-47b7-b9d2-fb77f7d5d0fd"
      },
      "outputs": [
        {
          "output_type": "stream",
          "name": "stdout",
          "text": [
            "Mounted at /content/drive\n"
          ]
        }
      ],
      "source": [
        "#My dataset is available in googledrive; so I am accessing my drive from colab\n",
        "from google.colab import drive\n",
        "drive.mount('/content/drive', force_remount=True)\n",
        "#Once this is executed, you will see your drive appearing on the left hand side"
      ]
    },
    {
      "cell_type": "code",
      "execution_count": 12,
      "metadata": {
        "id": "SMPHESYVVnzp"
      },
      "outputs": [],
      "source": [
        "# Define paths to the dataset\n",
        "train_dir = '/content/drive/MyDrive/wm-nowm/train'  # Update with your actual path\n",
        "test_dir = '/content/drive/MyDrive/wm-nowm/test'    # Update with your actual path"
      ]
    },
    {
      "cell_type": "code",
      "execution_count": 13,
      "metadata": {
        "colab": {
          "base_uri": "https://localhost:8080/"
        },
        "id": "wwfZiLtU6Ruq",
        "outputId": "103ce2d3-2e33-4464-873f-36fa7446a90f"
      },
      "outputs": [
        {
          "output_type": "stream",
          "name": "stdout",
          "text": [
            "880\n",
            "980\n",
            "220\n",
            "200\n"
          ]
        }
      ],
      "source": [
        "import os\n",
        "print(len(os.listdir('/content/drive/MyDrive/wm-nowm/train/no-watermark')))\n",
        "print(len(os.listdir('/content/drive/MyDrive/wm-nowm/train/watermark')))\n",
        "print(len(os.listdir('/content/drive/MyDrive/wm-nowm/test/no-watermark')))\n",
        "print(len(os.listdir('/content/drive/MyDrive/wm-nowm/test/watermark')))"
      ]
    },
    {
      "cell_type": "code",
      "execution_count": null,
      "metadata": {
        "colab": {
          "base_uri": "https://localhost:8080/"
        },
        "id": "kf8li3JNUJR1",
        "outputId": "a7cc044e-bcfc-456a-d212-45bcda58cbcc"
      },
      "outputs": [
        {
          "output_type": "stream",
          "name": "stdout",
          "text": [
            "Found 793 images belonging to 2 classes.\n",
            "Found 198 images belonging to 2 classes.\n"
          ]
        }
      ],
      "source": [
        "import tensorflow as tf\n",
        "from tensorflow.keras.preprocessing.image import ImageDataGenerator\n",
        "\n",
        "# Create ImageDataGenerator for training set\n",
        "train_datagen = ImageDataGenerator(\n",
        "    rescale=1./255,\n",
        "    validation_split=0.2  # Split 20% of the images for validation\n",
        ")\n",
        "\n",
        "# Load and prepare training data\n",
        "train_data = train_datagen.flow_from_directory(\n",
        "    train_dir,\n",
        "    target_size=(256,256),\n",
        "    batch_size=32,\n",
        "    class_mode='binary',  # 'binary' for binary classification (cats vs. dogs)\n",
        "    subset='training'  # Specify 'training' for the training set\n",
        ")\n",
        "\n",
        "# Create ImageDataGenerator for validation set\n",
        "validation_datagen = ImageDataGenerator(\n",
        "    rescale=1./255,\n",
        "    validation_split=0.2  # Note: Using the same validation split as in the training set\n",
        ")\n",
        "\n",
        "# Load and prepare validation data\n",
        "validation_data = validation_datagen.flow_from_directory(\n",
        "    train_dir,\n",
        "    target_size=(256,256),\n",
        "    batch_size=32,\n",
        "    class_mode='binary',\n",
        "    subset='validation'  # Specify 'validation' for the validation set\n",
        ")"
      ]
    },
    {
      "cell_type": "code",
      "execution_count": null,
      "metadata": {
        "id": "wGp6oIfQWMFh"
      },
      "outputs": [],
      "source": [
        "from tensorflow import keras\n",
        "from keras import Sequential\n",
        "from keras.layers import Dense,Conv2D,MaxPooling2D,Flatten,BatchNormalization,UpSampling2D, Dropout"
      ]
    },
    {
      "cell_type": "code",
      "execution_count": null,
      "metadata": {
        "id": "6liLEEzLWNB5"
      },
      "outputs": [],
      "source": [
        "# create CNN model\n",
        "\n",
        "model = Sequential()\n",
        "\n",
        "model.add(Conv2D(32,kernel_size=(3,3),padding='valid',activation='relu',input_shape=(256,256,3)))  # 32 filters\n",
        "#model.add(BatchNormalization())  # added to reduce overfitting\n",
        "model.add(MaxPooling2D(pool_size=(2,2),strides=2,padding='valid'))\n",
        "\n",
        "model.add(Conv2D(64,kernel_size=(3,3),padding='valid',activation='relu'))\n",
        "#model.add(BatchNormalization())  # added to reduce overfitting\n",
        "model.add(MaxPooling2D(pool_size=(2,2),strides=2,padding='valid'))\n",
        "\n",
        "model.add(Conv2D(128,kernel_size=(3,3),padding='valid',activation='relu'))\n",
        "#model.add(BatchNormalization())  # added to reduce overfitting\n",
        "model.add(MaxPooling2D(pool_size=(2,2),strides=2,padding='valid'))\n",
        "\n",
        "model.add(Flatten())\n",
        "\n",
        "model.add(Dense(128,activation='relu')) #feature reduction\n",
        "#model.add(Dropout(0.1))  # added to reduce overfitting\n",
        "model.add(Dense(64,activation='relu'))\n",
        "#model.add(Dropout(0.1))  # added to reduce overfitting\n",
        "model.add(Dense(1,activation='sigmoid'))  #output layer"
      ]
    },
    {
      "cell_type": "code",
      "execution_count": null,
      "metadata": {
        "id": "SeBjyn0iWXgY"
      },
      "outputs": [],
      "source": [
        "from keras.optimizers import Adam\n",
        "model.compile(optimizer=Adam(learning_rate=0.001),loss='binary_crossentropy',metrics=['accuracy']) #binary_crossentropy - binary classification"
      ]
    },
    {
      "cell_type": "code",
      "execution_count": 8,
      "metadata": {
        "colab": {
          "base_uri": "https://localhost:8080/"
        },
        "id": "lGbY2VpIWbTt",
        "outputId": "77db312c-e8b4-4bdc-8535-cc878f5f3ad1"
      },
      "outputs": [
        {
          "output_type": "stream",
          "name": "stdout",
          "text": [
            "Epoch 1/30\n",
            "47/47 [==============================] - 567s 12s/step - loss: 0.7045 - accuracy: 0.5309 - val_loss: 0.6925 - val_accuracy: 0.5215\n",
            "Epoch 2/30\n",
            "47/47 [==============================] - 263s 6s/step - loss: 0.6914 - accuracy: 0.5235 - val_loss: 0.7013 - val_accuracy: 0.5269\n",
            "Epoch 3/30\n",
            "47/47 [==============================] - 267s 6s/step - loss: 0.6834 - accuracy: 0.5591 - val_loss: 0.6836 - val_accuracy: 0.5269\n",
            "Epoch 4/30\n",
            "47/47 [==============================] - 262s 6s/step - loss: 0.6318 - accuracy: 0.6237 - val_loss: 0.6289 - val_accuracy: 0.6398\n",
            "Epoch 5/30\n",
            "47/47 [==============================] - 265s 6s/step - loss: 0.5186 - accuracy: 0.7345 - val_loss: 0.6205 - val_accuracy: 0.6532\n",
            "Epoch 6/30\n",
            "47/47 [==============================] - 259s 6s/step - loss: 0.4049 - accuracy: 0.8118 - val_loss: 0.6332 - val_accuracy: 0.6747\n",
            "Epoch 7/30\n",
            "47/47 [==============================] - 255s 5s/step - loss: 0.3005 - accuracy: 0.8763 - val_loss: 0.8388 - val_accuracy: 0.6478\n",
            "Epoch 8/30\n",
            "47/47 [==============================] - 266s 6s/step - loss: 0.2203 - accuracy: 0.9220 - val_loss: 0.8163 - val_accuracy: 0.7016\n",
            "Epoch 9/30\n",
            "47/47 [==============================] - 258s 5s/step - loss: 0.1970 - accuracy: 0.9388 - val_loss: 1.0134 - val_accuracy: 0.7043\n",
            "Epoch 10/30\n",
            "47/47 [==============================] - 266s 6s/step - loss: 0.1383 - accuracy: 0.9556 - val_loss: 1.1814 - val_accuracy: 0.6962\n",
            "Epoch 11/30\n",
            "47/47 [==============================] - 259s 6s/step - loss: 0.1262 - accuracy: 0.9583 - val_loss: 1.2372 - val_accuracy: 0.6828\n",
            "Epoch 12/30\n",
            "47/47 [==============================] - 267s 6s/step - loss: 0.0977 - accuracy: 0.9657 - val_loss: 1.1089 - val_accuracy: 0.6935\n",
            "Epoch 13/30\n",
            "47/47 [==============================] - 256s 5s/step - loss: 0.0681 - accuracy: 0.9718 - val_loss: 1.2856 - val_accuracy: 0.7016\n",
            "Epoch 14/30\n",
            "47/47 [==============================] - 257s 5s/step - loss: 0.0672 - accuracy: 0.9711 - val_loss: 1.1878 - val_accuracy: 0.7177\n",
            "Epoch 15/30\n",
            "47/47 [==============================] - 266s 6s/step - loss: 0.0624 - accuracy: 0.9711 - val_loss: 1.3682 - val_accuracy: 0.6828\n",
            "Epoch 16/30\n",
            "47/47 [==============================] - 258s 5s/step - loss: 0.0587 - accuracy: 0.9738 - val_loss: 1.3826 - val_accuracy: 0.7097\n",
            "Epoch 17/30\n",
            "47/47 [==============================] - 269s 6s/step - loss: 0.0492 - accuracy: 0.9698 - val_loss: 1.4296 - val_accuracy: 0.6909\n",
            "Epoch 18/30\n",
            "47/47 [==============================] - 260s 6s/step - loss: 0.0698 - accuracy: 0.9691 - val_loss: 1.5952 - val_accuracy: 0.6989\n",
            "Epoch 19/30\n",
            "47/47 [==============================] - 267s 6s/step - loss: 0.0605 - accuracy: 0.9718 - val_loss: 1.6169 - val_accuracy: 0.7177\n",
            "Epoch 20/30\n",
            "47/47 [==============================] - 254s 5s/step - loss: 0.0735 - accuracy: 0.9637 - val_loss: 1.6732 - val_accuracy: 0.7070\n",
            "Epoch 21/30\n",
            "47/47 [==============================] - 257s 5s/step - loss: 0.0603 - accuracy: 0.9731 - val_loss: 1.5235 - val_accuracy: 0.6962\n",
            "Epoch 22/30\n",
            "47/47 [==============================] - 262s 6s/step - loss: 0.0495 - accuracy: 0.9738 - val_loss: 1.6287 - val_accuracy: 0.7204\n",
            "Epoch 23/30\n",
            "47/47 [==============================] - 259s 6s/step - loss: 0.0362 - accuracy: 0.9765 - val_loss: 1.9303 - val_accuracy: 0.7070\n",
            "Epoch 24/30\n",
            "47/47 [==============================] - 261s 6s/step - loss: 0.0371 - accuracy: 0.9785 - val_loss: 1.5909 - val_accuracy: 0.7151\n",
            "Epoch 25/30\n",
            "47/47 [==============================] - 255s 5s/step - loss: 0.0277 - accuracy: 0.9845 - val_loss: 2.1148 - val_accuracy: 0.7339\n",
            "Epoch 26/30\n",
            "47/47 [==============================] - 261s 6s/step - loss: 0.0278 - accuracy: 0.9805 - val_loss: 1.9784 - val_accuracy: 0.7043\n",
            "Epoch 27/30\n",
            "47/47 [==============================] - 267s 6s/step - loss: 0.0290 - accuracy: 0.9805 - val_loss: 2.0351 - val_accuracy: 0.7285\n",
            "Epoch 28/30\n",
            "47/47 [==============================] - 265s 6s/step - loss: 0.0265 - accuracy: 0.9819 - val_loss: 1.9321 - val_accuracy: 0.7366\n",
            "Epoch 29/30\n",
            "47/47 [==============================] - 270s 6s/step - loss: 0.0341 - accuracy: 0.9825 - val_loss: 1.6263 - val_accuracy: 0.7339\n",
            "Epoch 30/30\n",
            "47/47 [==============================] - 255s 5s/step - loss: 0.0309 - accuracy: 0.9832 - val_loss: 1.9574 - val_accuracy: 0.7419\n"
          ]
        }
      ],
      "source": [
        "history = model.fit(train_data, epochs=30, validation_data=validation_data)"
      ]
    },
    {
      "cell_type": "code",
      "execution_count": 14,
      "metadata": {
        "id": "g21dMlSOWKas",
        "colab": {
          "base_uri": "https://localhost:8080/",
          "height": 430
        },
        "outputId": "e4e20935-7009-41df-aa6c-092ac7503f7d"
      },
      "outputs": [
        {
          "output_type": "display_data",
          "data": {
            "text/plain": [
              "<Figure size 640x480 with 1 Axes>"
            ],
            "image/png": "[encoded data removed]"
          },
          "metadata": {}
        }
      ],
      "source": [
        "import matplotlib.pyplot as plt\n",
        "\n",
        "plt.plot(history.history['accuracy'],color='red',label='train')\n",
        "plt.plot(history.history['val_accuracy'],color='blue',label='validation')\n",
        "plt.legend()\n",
        "plt.show()"
      ]
    },
    {
      "cell_type": "code",
      "execution_count": 15,
      "metadata": {
        "id": "FYZ0VJp4esXl",
        "colab": {
          "base_uri": "https://localhost:8080/",
          "height": 430
        },
        "outputId": "d7fcd302-3e2e-4910-dac9-57b0f8f36194"
      },
      "outputs": [
        {
          "output_type": "display_data",
          "data": {
            "text/plain": [
              "<Figure size 640x480 with 1 Axes>"
            ],
            "image/png": "[encoded data removed]"
          },
          "metadata": {}
        }
      ],
      "source": [
        "plt.plot(history.history['loss'],color='red',label='train')\n",
        "plt.plot(history.history['val_loss'],color='blue',label='validation')\n",
        "plt.legend()\n",
        "plt.show()"
      ]
    },
    {
      "cell_type": "code",
      "execution_count": 16,
      "metadata": {
        "id": "tQj_RyrZWBEt",
        "colab": {
          "base_uri": "https://localhost:8080/"
        },
        "outputId": "56986d91-d779-4c59-e68f-2da5797e87b4"
      },
      "outputs": [
        {
          "output_type": "stream",
          "name": "stdout",
          "text": [
            "Found 420 images belonging to 2 classes.\n"
          ]
        }
      ],
      "source": [
        "test_datagen = ImageDataGenerator(rescale=1./255)\n",
        "test_data = test_datagen.flow_from_directory(\n",
        "    test_dir,\n",
        "    target_size=(256,256),\n",
        "    batch_size=32,\n",
        "    class_mode='binary'\n",
        ")"
      ]
    },
    {
      "cell_type": "code",
      "execution_count": 17,
      "metadata": {
        "id": "glicW8_5vTqd",
        "colab": {
          "base_uri": "https://localhost:8080/"
        },
        "outputId": "4f9fbc78-a074-4ab1-fa58-cdbb058ff81a"
      },
      "outputs": [
        {
          "output_type": "stream",
          "name": "stdout",
          "text": [
            "14/14 [==============================] - 117s 9s/step\n",
            "[[9.99994338e-01]\n",
            " [4.43435311e-02]\n",
            " [4.16036897e-07]\n",
            " [1.00000000e+00]\n",
            " [8.96948874e-01]\n",
            " [9.99712110e-01]\n",
            " [9.99219060e-01]\n",
            " [1.75917808e-10]\n",
            " [1.90774102e-07]\n",
            " [6.68330431e-01]\n",
            " [2.53643072e-03]\n",
            " [7.99936116e-01]\n",
            " [1.00000000e+00]\n",
            " [9.99992669e-01]\n",
            " [2.36315243e-12]\n",
            " [7.91996424e-09]\n",
            " [7.12464809e-01]\n",
            " [4.61593881e-05]\n",
            " [2.61098891e-01]\n",
            " [9.99968886e-01]\n",
            " [1.15134311e-03]\n",
            " [2.55975203e-04]\n",
            " [9.98395979e-01]\n",
            " [3.33244205e-01]\n",
            " [1.89252317e-01]\n",
            " [6.49132926e-05]\n",
            " [8.75658244e-02]\n",
            " [9.99508083e-01]\n",
            " [2.55253226e-01]\n",
            " [1.00000000e+00]\n",
            " [9.99490559e-01]\n",
            " [1.42529896e-02]\n",
            " [1.00000000e+00]\n",
            " [3.88372578e-02]\n",
            " [2.56206959e-01]\n",
            " [9.99995291e-01]\n",
            " [9.99985814e-01]\n",
            " [6.00853295e-04]\n",
            " [1.63028300e-01]\n",
            " [9.93204951e-01]\n",
            " [1.91469968e-03]\n",
            " [9.99999881e-01]\n",
            " [9.99910653e-01]\n",
            " [9.36875045e-01]\n",
            " [2.48575746e-03]\n",
            " [2.68485025e-03]\n",
            " [9.74268734e-01]\n",
            " [9.99996245e-01]\n",
            " [2.49378732e-04]\n",
            " [5.36200241e-04]\n",
            " [7.22078886e-09]\n",
            " [1.00000000e+00]\n",
            " [1.58078905e-07]\n",
            " [1.00000000e+00]\n",
            " [1.00000000e+00]\n",
            " [7.52823937e-08]\n",
            " [7.66422786e-03]\n",
            " [5.20956332e-14]\n",
            " [9.85359773e-04]\n",
            " [7.46762574e-01]\n",
            " [2.88141513e-04]\n",
            " [3.51026567e-04]\n",
            " [9.62477326e-01]\n",
            " [1.66409381e-03]\n",
            " [9.99933958e-01]\n",
            " [9.95130479e-01]\n",
            " [5.73090873e-08]\n",
            " [8.30337644e-01]\n",
            " [6.78068020e-08]\n",
            " [1.00000000e+00]\n",
            " [7.92826831e-01]\n",
            " [6.44174824e-03]\n",
            " [9.99999940e-01]\n",
            " [1.23853251e-01]\n",
            " [9.51391776e-05]\n",
            " [1.38590217e-03]\n",
            " [9.98170137e-01]\n",
            " [8.51699896e-03]\n",
            " [9.61041987e-01]\n",
            " [1.12484056e-04]\n",
            " [4.19821072e-06]\n",
            " [9.01140762e-09]\n",
            " [1.00000000e+00]\n",
            " [2.39038229e-07]\n",
            " [9.85406101e-01]\n",
            " [9.99999583e-01]\n",
            " [5.69560221e-08]\n",
            " [2.44802824e-11]\n",
            " [3.60606387e-02]\n",
            " [1.00000000e+00]\n",
            " [8.00131003e-11]\n",
            " [9.99720991e-01]\n",
            " [2.39473739e-08]\n",
            " [9.99609292e-01]\n",
            " [1.39733627e-01]\n",
            " [4.85973760e-05]\n",
            " [1.00000000e+00]\n",
            " [9.97049548e-03]\n",
            " [2.31136073e-05]\n",
            " [9.88381267e-01]\n",
            " [1.83301885e-03]\n",
            " [2.59032965e-01]\n",
            " [1.00000000e+00]\n",
            " [7.31880602e-04]\n",
            " [9.99999225e-01]\n",
            " [1.00000000e+00]\n",
            " [1.20310506e-04]\n",
            " [9.99823570e-01]\n",
            " [9.99980807e-01]\n",
            " [4.80579088e-09]\n",
            " [1.00000000e+00]\n",
            " [9.99999702e-01]\n",
            " [6.11756966e-02]\n",
            " [5.60419977e-01]\n",
            " [9.67723548e-01]\n",
            " [7.23903213e-06]\n",
            " [1.60997763e-01]\n",
            " [9.01119411e-01]\n",
            " [4.96062450e-02]\n",
            " [9.99072850e-01]\n",
            " [9.99962926e-01]\n",
            " [1.58533573e-01]\n",
            " [1.00000000e+00]\n",
            " [7.98981364e-06]\n",
            " [1.90328229e-02]\n",
            " [1.00000000e+00]\n",
            " [1.45003054e-04]\n",
            " [5.88684990e-10]\n",
            " [1.01308819e-06]\n",
            " [1.00000000e+00]\n",
            " [9.92216527e-01]\n",
            " [9.98862505e-01]\n",
            " [9.99985814e-01]\n",
            " [9.99977946e-01]\n",
            " [4.06508800e-04]\n",
            " [9.78607178e-01]\n",
            " [3.14394059e-03]\n",
            " [9.99992073e-01]\n",
            " [7.85546901e-04]\n",
            " [4.86290341e-09]\n",
            " [9.98089373e-01]\n",
            " [6.62661791e-01]\n",
            " [4.35387716e-04]\n",
            " [9.97671187e-01]\n",
            " [1.00000000e+00]\n",
            " [9.99999881e-01]\n",
            " [1.84677972e-03]\n",
            " [1.17493073e-07]\n",
            " [2.39805042e-04]\n",
            " [1.00000000e+00]\n",
            " [3.71795207e-01]\n",
            " [3.22146900e-03]\n",
            " [1.02622657e-07]\n",
            " [9.40303551e-04]\n",
            " [8.82518649e-01]\n",
            " [9.99998808e-01]\n",
            " [4.49773279e-06]\n",
            " [9.99669850e-01]\n",
            " [9.99977410e-01]\n",
            " [2.67911128e-06]\n",
            " [8.12217772e-01]\n",
            " [9.99742806e-01]\n",
            " [4.56050242e-04]\n",
            " [1.34584013e-06]\n",
            " [9.99991715e-01]\n",
            " [9.99999881e-01]\n",
            " [9.99958575e-01]\n",
            " [9.99795616e-01]\n",
            " [5.81481576e-01]\n",
            " [9.99955475e-01]\n",
            " [9.39680467e-05]\n",
            " [9.94681060e-01]\n",
            " [1.98349264e-03]\n",
            " [3.83108258e-02]\n",
            " [4.17204350e-01]\n",
            " [9.99999881e-01]\n",
            " [3.90908029e-03]\n",
            " [5.02627678e-02]\n",
            " [3.77680101e-02]\n",
            " [9.98085439e-01]\n",
            " [1.00000000e+00]\n",
            " [9.99830127e-01]\n",
            " [9.99998748e-01]\n",
            " [9.96021152e-01]\n",
            " [2.28091580e-04]\n",
            " [2.98908874e-02]\n",
            " [8.29822719e-02]\n",
            " [4.08486789e-03]\n",
            " [1.19374687e-04]\n",
            " [9.99998093e-01]\n",
            " [9.99997556e-01]\n",
            " [9.35640395e-01]\n",
            " [4.40381579e-02]\n",
            " [9.48068678e-01]\n",
            " [1.21729011e-06]\n",
            " [9.99985754e-01]\n",
            " [1.00000000e+00]\n",
            " [2.28000266e-04]\n",
            " [9.72190261e-01]\n",
            " [9.51248873e-03]\n",
            " [9.99929845e-01]\n",
            " [5.01465438e-05]\n",
            " [9.90366876e-01]\n",
            " [9.99956727e-01]\n",
            " [1.29367130e-08]\n",
            " [9.99920964e-01]\n",
            " [5.54790080e-01]\n",
            " [9.23649371e-01]\n",
            " [4.06173974e-01]\n",
            " [9.99999762e-01]\n",
            " [1.30953986e-05]\n",
            " [1.00000000e+00]\n",
            " [9.99999166e-01]\n",
            " [9.89684045e-01]\n",
            " [9.96589735e-02]\n",
            " [9.99954283e-01]\n",
            " [2.36716680e-03]\n",
            " [1.00000000e+00]\n",
            " [2.45357569e-05]\n",
            " [1.23313885e-05]\n",
            " [4.06589545e-02]\n",
            " [3.28668921e-06]\n",
            " [1.76628430e-06]\n",
            " [2.02668388e-03]\n",
            " [1.37081146e-01]\n",
            " [9.64808583e-01]\n",
            " [9.99999046e-01]\n",
            " [2.44573566e-05]\n",
            " [9.36929396e-08]\n",
            " [9.99999821e-01]\n",
            " [2.88252886e-06]\n",
            " [1.20383047e-03]\n",
            " [1.00000000e+00]\n",
            " [9.91829216e-01]\n",
            " [9.99999821e-01]\n",
            " [9.99791145e-01]\n",
            " [1.26646951e-01]\n",
            " [1.86319596e-06]\n",
            " [1.73609774e-03]\n",
            " [9.99545753e-01]\n",
            " [3.42955069e-08]\n",
            " [1.00000000e+00]\n",
            " [2.09302478e-03]\n",
            " [9.80229557e-01]\n",
            " [9.89042342e-01]\n",
            " [6.59724995e-02]\n",
            " [8.38318928e-11]\n",
            " [9.99481440e-01]\n",
            " [9.98294890e-01]\n",
            " [3.44432481e-02]\n",
            " [2.18276909e-05]\n",
            " [9.71609294e-01]\n",
            " [9.98955965e-01]\n",
            " [1.57719739e-02]\n",
            " [9.99999404e-01]\n",
            " [5.29149354e-01]\n",
            " [6.21892323e-05]\n",
            " [3.98109809e-11]\n",
            " [9.99997318e-01]\n",
            " [4.66947118e-03]\n",
            " [4.33489263e-13]\n",
            " [5.98216709e-03]\n",
            " [1.00000000e+00]\n",
            " [9.99850392e-01]\n",
            " [7.73538530e-01]\n",
            " [6.55726297e-03]\n",
            " [9.63801444e-01]\n",
            " [2.89894844e-04]\n",
            " [9.93878663e-01]\n",
            " [9.67585921e-01]\n",
            " [1.09570387e-10]\n",
            " [7.80986738e-05]\n",
            " [9.99958754e-01]\n",
            " [9.99999762e-01]\n",
            " [1.21852900e-04]\n",
            " [4.14796807e-02]\n",
            " [1.46534920e-01]\n",
            " [2.75673345e-04]\n",
            " [4.26213546e-06]\n",
            " [3.71316681e-03]\n",
            " [1.00000000e+00]\n",
            " [4.40701423e-03]\n",
            " [1.16801750e-07]\n",
            " [1.85731761e-02]\n",
            " [2.48986818e-02]\n",
            " [6.91405237e-01]\n",
            " [1.68421131e-03]\n",
            " [2.63214801e-02]\n",
            " [9.08339359e-07]\n",
            " [2.38639209e-03]\n",
            " [6.42499421e-03]\n",
            " [1.00000000e+00]\n",
            " [1.37514934e-01]\n",
            " [2.14081653e-03]\n",
            " [9.99852955e-01]\n",
            " [3.06042193e-06]\n",
            " [9.97252405e-01]\n",
            " [9.99999881e-01]\n",
            " [9.99996662e-01]\n",
            " [2.52568775e-08]\n",
            " [1.80073330e-04]\n",
            " [1.95547705e-06]\n",
            " [1.00000000e+00]\n",
            " [3.65745365e-07]\n",
            " [1.00000000e+00]\n",
            " [1.43429048e-07]\n",
            " [1.00000000e+00]\n",
            " [9.99999881e-01]\n",
            " [1.00000000e+00]\n",
            " [9.91134524e-01]\n",
            " [9.99994457e-01]\n",
            " [9.99972403e-01]\n",
            " [9.99895811e-01]\n",
            " [9.78664577e-01]\n",
            " [5.33497054e-03]\n",
            " [1.98687303e-05]\n",
            " [5.08712471e-01]\n",
            " [1.02204294e-05]\n",
            " [1.00000000e+00]\n",
            " [4.62580472e-04]\n",
            " [1.61690807e-07]\n",
            " [9.99938488e-01]\n",
            " [1.01852659e-02]\n",
            " [9.99945164e-01]\n",
            " [1.00000000e+00]\n",
            " [3.25397432e-01]\n",
            " [1.00000000e+00]\n",
            " [2.74369061e-01]\n",
            " [2.45312485e-03]\n",
            " [4.96345758e-02]\n",
            " [9.14844930e-01]\n",
            " [9.99989510e-01]\n",
            " [7.30356574e-03]\n",
            " [2.70414352e-02]\n",
            " [9.93057609e-01]\n",
            " [7.02911019e-01]\n",
            " [5.08858932e-07]\n",
            " [4.85338795e-04]\n",
            " [9.99546051e-01]\n",
            " [5.23170856e-05]\n",
            " [6.14618480e-01]\n",
            " [1.32123902e-01]\n",
            " [3.45202607e-05]\n",
            " [4.32797596e-02]\n",
            " [3.22112464e-03]\n",
            " [1.53934155e-02]\n",
            " [1.00000000e+00]\n",
            " [9.99967515e-01]\n",
            " [1.38313457e-01]\n",
            " [7.11648318e-04]\n",
            " [9.97822404e-01]\n",
            " [1.31135136e-01]\n",
            " [1.33120909e-03]\n",
            " [9.33436930e-01]\n",
            " [9.99490440e-01]\n",
            " [9.99918342e-01]\n",
            " [4.12837237e-01]\n",
            " [1.25302792e-01]\n",
            " [9.97945547e-01]\n",
            " [1.72725856e-06]\n",
            " [1.00000000e+00]\n",
            " [1.31378369e-02]\n",
            " [9.95902598e-01]\n",
            " [9.99999285e-01]\n",
            " [9.99987245e-01]\n",
            " [9.61574316e-01]\n",
            " [9.99999702e-01]\n",
            " [5.48858475e-03]\n",
            " [1.11412808e-01]\n",
            " [3.53131413e-01]\n",
            " [2.59925991e-01]\n",
            " [9.99689996e-01]\n",
            " [9.99850929e-01]\n",
            " [4.93629195e-05]\n",
            " [9.99166667e-01]\n",
            " [4.76483870e-12]\n",
            " [9.99998987e-01]\n",
            " [1.67767152e-01]\n",
            " [8.40039272e-03]\n",
            " [9.99999940e-01]\n",
            " [9.83790219e-01]\n",
            " [1.71830375e-02]\n",
            " [1.00000000e+00]\n",
            " [9.75750208e-01]\n",
            " [1.10499971e-02]\n",
            " [9.99996722e-01]\n",
            " [9.99999940e-01]\n",
            " [9.99999642e-01]\n",
            " [4.29509970e-13]\n",
            " [9.68145847e-01]\n",
            " [4.54131886e-02]\n",
            " [9.96074677e-01]\n",
            " [9.64873075e-01]\n",
            " [7.52205551e-01]\n",
            " [1.97747631e-05]\n",
            " [7.38385716e-05]\n",
            " [7.64442002e-03]\n",
            " [5.84366382e-04]\n",
            " [4.75671669e-07]\n",
            " [4.26567482e-07]\n",
            " [4.14187647e-02]\n",
            " [7.78862894e-01]\n",
            " [8.64155516e-02]\n",
            " [9.99239445e-01]\n",
            " [9.25433993e-01]\n",
            " [1.00000000e+00]\n",
            " [8.13268940e-04]\n",
            " [1.34639554e-02]\n",
            " [1.17400297e-04]\n",
            " [1.34595030e-05]\n",
            " [5.83229363e-01]\n",
            " [9.99943674e-01]\n",
            " [9.99998569e-01]\n",
            " [9.99632895e-01]\n",
            " [7.25904822e-01]\n",
            " [6.88407919e-04]\n",
            " [3.67853005e-04]\n",
            " [1.00000000e+00]\n",
            " [5.78793557e-03]\n",
            " [9.99997556e-01]]\n"
          ]
        }
      ],
      "source": [
        "#predict the test data\n",
        "predictions = model.predict(test_data)\n",
        "print(predictions)"
      ]
    },
    {
      "cell_type": "code",
      "execution_count": 18,
      "metadata": {
        "id": "r7XjnjcNyMbv",
        "colab": {
          "base_uri": "https://localhost:8080/"
        },
        "outputId": "074d52f6-328a-49be-8e51-cbb76b919835"
      },
      "outputs": [
        {
          "output_type": "execute_result",
          "data": {
            "text/plain": [
              "420"
            ]
          },
          "metadata": {},
          "execution_count": 18
        }
      ],
      "source": [
        "len(predictions)"
      ]
    },
    {
      "cell_type": "code",
      "execution_count": 19,
      "metadata": {
        "id": "oqqBXpuhyd6x",
        "colab": {
          "base_uri": "https://localhost:8080/"
        },
        "outputId": "33452879-1eec-48f2-a378-7607f3ad8314"
      },
      "outputs": [
        {
          "output_type": "stream",
          "name": "stdout",
          "text": [
            "Confusion Matrix:\n",
            "[[110 110]\n",
            " [106  94]]\n",
            "Classification Report:\n",
            "              precision    recall  f1-score   support\n",
            "\n",
            "           0       0.51      0.50      0.50       220\n",
            "           1       0.46      0.47      0.47       200\n",
            "\n",
            "    accuracy                           0.49       420\n",
            "   macro avg       0.49      0.48      0.48       420\n",
            "weighted avg       0.49      0.49      0.49       420\n",
            "\n"
          ]
        }
      ],
      "source": [
        "from sklearn.metrics import confusion_matrix, classification_report\n",
        "\n",
        "# Assuming you have ground truth labels (true_labels) and predicted labels (predictions)\n",
        "true_labels = test_data.classes\n",
        "predicted_labels = (predictions > 0.5).astype(int)  # Adjust the threshold as needed\n",
        "\n",
        "# Calculate confusion matrix\n",
        "cm = confusion_matrix(true_labels, predicted_labels)\n",
        "\n",
        "# Print confusion matrix\n",
        "print(\"Confusion Matrix:\")\n",
        "print(cm)\n",
        "\n",
        "# Print classification report\n",
        "print(\"Classification Report:\")\n",
        "print(classification_report(true_labels, predicted_labels))"
      ]
    }
  ],
  "metadata": {
    "accelerator": "TPU",
    "colab": {
      "provenance": []
    },
    "kernelspec": {
      "display_name": "Python 3",
      "name": "python3"
    },
    "language_info": {
      "name": "python"
    }
  },
  "nbformat": 4,
  "nbformat_minor": 0
}